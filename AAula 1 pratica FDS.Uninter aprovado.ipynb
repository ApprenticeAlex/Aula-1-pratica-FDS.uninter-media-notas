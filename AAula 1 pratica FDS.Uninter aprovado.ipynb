{
  "nbformat": 4,
  "nbformat_minor": 0,
  "metadata": {
    "colab": {
      "provenance": [],
      "authorship_tag": "ABX9TyNQ3HIfzeM86e7o8q6KAr30",
      "include_colab_link": true
    },
    "kernelspec": {! g++ teste.cpp -o testec
      "name": "python3",
      "display_name": "Python 3"
    },
    "language_info": {
      "name": "python"
    }
  },
  "cells": [
    {
      "cell_type": "markdown",
      "metadata": {
        "id": "view-in-github",
        "colab_type": "text"
      },
      "source": [
        "<a href=\"https://colab.research.google.com/github/ApprenticeAlex/hello-world/blob/main/Untitled0.ipynb\" target=\"_parent\"><img src=\"https://colab.research.google.com/assets/colab-badge.svg\" alt=\"Open In Colab\"/></a>"
      ]
    },
    {
      "cell_type": "code",
      "execution_count": 6,
      "metadata": {
        "id": "tn69NHKVnrbv",
        "colab": {
          "base_uri": "https://localhost:8080/"
        },
        "outputId": "ee33b9ea-144d-48c8-f933-50d3e063a53f"
      },
      "outputs": [
        {
          "output_type": "stream",
          "name": "stdout",
          "text": [
            "Overwriting teste.cpp\n"
          ]
        }
      ],
      "source": [
        "%%writefile teste.cpp\n",
        "#include <stdio.h>\n",
        "/*\n",
        "Programa que calcula a média aritmética\n",
        "Obter as 2 notas de provas\n",
        "Calcular a média aritmética\n",
        "Se a média for igual ou maior que 7, o aluno foi aprovado\n",
        "senão ele foi reprovado\n",
        "*/\n",
        "int main(void) {\n",
        "    //declaração de variável\n",
        "    float nota1, nota2, media;\n",
        "\n",
        "    //Obter as 2 notas de provas\n",! g++ teste.cpp -o testec
        "      printf(\"Digite a primeira nota: \");\n",
        "      scanf(\"%f\", &nota1);\n",
        "\n",
        "      printf(\"Digite a segunda nota: \");\n",
        "      scanf(\"%f\", &nota2);\n",
        "\n",
        "    //Calcular a média aritmética\n",
        "      media = (nota1 + nota2)/2;\n",
        "\n",
        "    //mostro o resultado\n",
        "    if (media >= 7 )\n",
        "      printf(\"Aprovado! \\n\");\n",
        "    else\n",
        "      printf(\"Reprovado! \\n\");\n",
        "\n",
        "    return 0;\n",
        "}"
      ]
    },
    {
      "cell_type": "code",
      "source": [
        "! g++ teste.cpp -o testec"
      ],
      "metadata": {
        "id": "eU3Eivdoc8UL"
      },
      "execution_count": 7,
      "outputs": []
    },
    {
      "cell_type": "code",
      "source": [
        "! ./testec"
      ],
      "metadata": {
        "colab": {
          "base_uri": "https://localhost:8080/"
        },
        "id": "Va1vQjpXdECv",
        "outputId": "9e646f43-551e-4af9-9ff1-ac61d32303f6"
      },
      "execution_count": 8,
      "outputs": [
        {
          "output_type": "stream",
          "name": "stdout",
          "text": [
            "Digite a primeira nota: 8\n",
            "Digite a segunda nota: 8\n",
            "Aprovado! \n"
          ]
        }
      ]
    }
  ]
}
