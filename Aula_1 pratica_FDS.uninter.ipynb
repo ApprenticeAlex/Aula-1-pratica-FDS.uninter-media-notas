{
  "nbformat": 4,
  "nbformat_minor": 0,
  "metadata": {
    "colab": {
      "provenance": [],
      "authorship_tag": "ABX9TyMcXHDnlN4sh9wOwKqk76xf",
      "include_colab_link": true
    },
    "kernelspec": {
      "name": "python3",
      "display_name": "Python 3"
    },
    "language_info": {
      "name": "python"
    }
  },
  "cells": [
    {
      "cell_type": "markdown",
      "metadata": {
        "id": "view-in-github",
        "colab_type": "text"
      },
      "source": [
        "<a href=\"https://colab.research.google.com/github/ApprenticeAlex/hello-world/blob/main/Aula_1%20pratica_FDS.uninter.ipynb\" target=\"_parent\"><img src=\"https://colab.research.google.com/assets/colab-badge.svg\" alt=\"Open In Colab\"/></a>"
      ]
    },
    {
      "cell_type": "code",
      "execution_count": 1,
      "metadata": {
        "id": "tn69NHKVnrbv",
        "colab": {
          "base_uri": "https://localhost:8080/"
        },
        "outputId": "937c94e3-971e-402f-cc57-13c44a3531fe"
      },
      "outputs": [
        {
          "output_type": "stream",
          "name": "stdout",
          "text": [
            "Writing teste.cpp\n"
          ]
        }
      ],
      "source": [
        "%%writefile teste.cpp\n",
        "#include <stdio.h>\n",
        "/*\n",
        "Programa que calcula a média aritmética\n",
        "Obter as 2 notas de provas\n",
        "Calcular a média aritmética\n",
        "Se a média for igual ou maior que 7, o aluno foi aprovado\n",
        "senão ele foi reprovado\n",
        "*/\n",
        "int main(void) {\n",
        "    //declaração de variável\n",
        "    float nota1, nota2, media;\n",
        "\n",
        "    //Obter as 2 notas de provas\n",
        "      printf(\"Digite a primeira nota: \");\n",
        "      scanf(\"%f\", &nota1);\n",
        "\n",
        "      printf(\"Digite a segunda nota: \");\n",
        "      scanf(\"%f\", &nota2);\n",
        "\n",
        "    //Calcular a média aritmética\n",
        "      media = (nota1 + nota2)/2;\n",
        "\n",
        "    //mostro o resultado\n",
        "    if (media >= 7 )\n",
        "      printf(\"Aprovado! \\n\");\n",
        "    else\n",
        "      printf(\"Reprovado! Estude mais! \\n\");\n",
        "\n",
        "    return 0;\n",
        "}"
      ]
    },
    {
      "cell_type": "code",
      "source": [
        "! g++ teste.cpp -o testec"
      ],
      "metadata": {
        "id": "PcWf2J-u903P"
      },
      "execution_count": 2,
      "outputs": []
    },
    {
      "cell_type": "code",
      "source": [
        "! ./testec"
      ],
      "metadata": {
        "colab": {
          "base_uri": "https://localhost:8080/"
        },
        "id": "BicD7J1h95Hz",
        "outputId": "9438b2b3-9c29-4ba7-a47f-80ef3f456f03"
      },
      "execution_count": 3,
      "outputs": [
        {
          "output_type": "stream",
          "name": "stdout",
          "text": [
            "Digite a primeira nota: 6\n",
            "Digite a segunda nota: 6\n",
            "Reprovado! Estude mais! \n"
          ]
        }
      ]
    }
  ]
}