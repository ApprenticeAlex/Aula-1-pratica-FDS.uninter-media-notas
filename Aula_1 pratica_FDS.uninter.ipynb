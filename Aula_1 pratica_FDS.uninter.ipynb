{
  "nbformat": 4,
  "nbformat_minor": 0,
  "metadata": {
    "colab": {
      "provenance": [],
      "authorship_tag": "ABX9TyPk76LUMymlkf3CKoMtKakB",
      "include_colab_link": true
    },
    "kernelspec": {
      "name": "python3",
      "display_name": "Python 3"
    },
    "language_info": {
      "name": "python"
    }
  },
  "cells": [
    {
      "cell_type": "markdown",
      "metadata": {
        "id": "view-in-github",
        "colab_type": "text"
      },
      "source": [
        "<a href=\"https://colab.research.google.com/github/ApprenticeAlex/Aula-1-pratica-FDS.uninter-media-notas/blob/main/Aula_1%20pratica_FDS.uninter.ipynb\" target=\"_parent\"><img src=\"https://colab.research.google.com/assets/colab-badge.svg\" alt=\"Open In Colab\"/></a>"
      ]
    },
    {
      "cell_type": "code",
      "execution_count": 4,
      "metadata": {
        "id": "tn69NHKVnrbv",
        "colab": {
          "base_uri": "https://localhost:8080/"
        },
        "outputId": "b93b67b9-de49-41ca-a867-0f334026d76d"
      },
      "outputs": [
        {
          "output_type": "stream",
          "name": "stdout",
          "text": [
            "Overwriting teste.cpp\n"
          ]
        }
      ],
      "source": [
        "%%writefile teste.cpp\n",
        "#include <stdio.h>\n",
        "/*\n",
        "Programa que calcula a média aritmética\n",
        "Obter as 2 notas de provas\n",
        "Calcular a média aritmética\n",
        "Se a média for igual ou maior que 7, o aluno foi aprovado\n",
        "senão ele foi reprovado\n",
        "*/\n",
        "int main(void) {\n",
        "    //declaração de variável\n",
        "    float nota1, nota2, media;\n",
        "\n",
        "    //Obter as 2 notas de provas\n",
        "      printf(\"Digite a primeira nota: \");\n",
        "      scanf(\"%f\", &nota1);\n",
        "\n",
        "      printf(\"Digite a segunda nota: \");\n",
        "      scanf(\"%f\", &nota2);\n",
        "\n",
        "    //Calcular a média aritmética\n",
        "      media = (nota1 + nota2)/2;\n",
        "\n",
        "    //mostro o resultado\n",
        "    if (media >= 7 )\n",
        "      printf(\"Aprovado! \\n\");\n",
        "    else\n",
        "      printf(\"Reprovado! Estude mais! \\n\");\n",
        "\n",
        "    return 0;\n",
        "}"
      ]
    },
    {
      "cell_type": "code",
      "source": [
        "! g++ teste.cpp -o testec"
      ],
      "metadata": {
        "id": "PcWf2J-u903P"
      },
      "execution_count": 2,
      "outputs": []
    },
    {
      "cell_type": "code",
      "source": [
        "! ./testec"
      ],
      "metadata": {
        "colab": {
          "base_uri": "https://localhost:8080/"
        },
        "id": "BicD7J1h95Hz",
        "outputId": "9438b2b3-9c29-4ba7-a47f-80ef3f456f03"
      },
      "execution_count": 3,
      "outputs": [
        {
          "output_type": "stream",
          "name": "stdout",
          "text": [
            "Digite a primeira nota: 6\n",
            "Digite a segunda nota: 6\n",
            "Reprovado! Estude mais! \n"
          ]
        }
      ]
    },
    {
      "cell_type": "code",
      "source": [
        "! g++ teste.cpp -o testec"
      ],
      "metadata": {
        "id": "smwrUQM2DHTO"
      },
      "execution_count": 5,
      "outputs": []
    },
    {
      "cell_type": "code",
      "source": [
        "! ./testec"
      ],
      "metadata": {
        "id": "W-CVaw9lDRQO",
        "outputId": "53125b88-ffe2-468f-a693-7ca0a02a4fa3",
        "colab": {
          "base_uri": "https://localhost:8080/"
        }
      },
      "execution_count": 6,
      "outputs": [
        {
          "output_type": "stream",
          "name": "stdout",
          "text": [
            "Digite a primeira nota: 8\n",
            "Digite a segunda nota: 8\n",
            "Aprovado! \n"
          ]
        }
      ]
    }
  ]
}